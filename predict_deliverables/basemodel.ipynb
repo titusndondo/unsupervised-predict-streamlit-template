{
  "nbformat": 4,
  "nbformat_minor": 0,
  "metadata": {
    "kernelspec": {
      "display_name": "Python 3",
      "language": "python",
      "name": "python3"
    },
    "language_info": {
      "codemirror_mode": {
        "name": "ipython",
        "version": 3
      },
      "file_extension": ".py",
      "mimetype": "text/x-python",
      "name": "python",
      "nbconvert_exporter": "python",
      "pygments_lexer": "ipython3",
      "version": "3.7.6"
    },
    "toc": {
      "base_numbering": 1,
      "nav_menu": {},
      "number_sections": true,
      "sideBar": true,
      "skip_h1_title": false,
      "title_cell": "Table of Contents",
      "title_sidebar": "Contents",
      "toc_cell": false,
      "toc_position": {},
      "toc_section_display": true,
      "toc_window_display": false
    },
    "colab": {
      "name": "basemodel.ipynb",
      "provenance": [],
      "collapsed_sections": [],
      "toc_visible": true
    }
  },
  "cells": [
    {
      "cell_type": "markdown",
      "metadata": {
        "id": "S7NckbDjg0hg",
        "colab_type": "text"
      },
      "source": [
        "# EDSA Movie Recommendation Challenge"
      ]
    },
    {
      "cell_type": "markdown",
      "metadata": {
        "id": "NgoCUsl9g84k",
        "colab_type": "text"
      },
      "source": [
        "# Introduction"
      ]
    },
    {
      "cell_type": "markdown",
      "metadata": {
        "id": "ms6TZe9ghrxA",
        "colab_type": "text"
      },
      "source": [
        "## Context\n",
        "\n",
        "In today’s technology driven world, recommender systems are socially and economically critical for ensuring that individuals can make appropriate choices surrounding the content they engage with on a daily basis. One application where this is especially true surrounds movie content recommendations; where intelligent algorithms can help viewers find great titles from tens of thousands of options."
      ]
    },
    {
      "cell_type": "markdown",
      "metadata": {
        "id": "5WTi1mqchvbf",
        "colab_type": "text"
      },
      "source": [
        "## Problem Statement\n",
        "With this context, EDSA is challenging you to construct a recommendation algorithm based on content or collaborative filtering, capable of accurately predicting how a user will rate a movie they have not yet viewed based on their historical preferences.\n",
        "\n",
        "Providing an accurate and robust solution to this challenge has immense economic potential, with users of the system being exposed to content they would like to view or purchase - generating revenue and platform affinity."
      ]
    },
    {
      "cell_type": "markdown",
      "metadata": {
        "id": "VNP7mzv2h0PS",
        "colab_type": "text"
      },
      "source": [
        "## Evaluation\n",
        "The evaluation metric for this competition is Root Mean Square Error. Root Mean Square Error (RMSE) is commonly used in regression analysis and forecasting, and measures the standard deviation of the residuals arising between predicted and actual observed values for a modelling process."
      ]
    },
    {
      "cell_type": "markdown",
      "metadata": {
        "id": "v3Pp-OD8jOI8",
        "colab_type": "text"
      },
      "source": [
        "# Data Exploration"
      ]
    },
    {
      "cell_type": "markdown",
      "metadata": {
        "id": "6GlFpN7RjTPP",
        "colab_type": "text"
      },
      "source": [
        "## Installing and Importing packages\n",
        "An importang module we'll need to install and import here is turicreate. The following explanation is taken directly from the module's documentation page.\n",
        "\n",
        "Turi Create simplifies the development of custom machine learning models. You don’t have to be a machine learning expert to add recommendations, object detection, image classification, image similarity or activity classification to your app.\n",
        "\n",
        "1. Easy-to-use: Focus on tasks instead of algorithms\n",
        "2. Visual: Built-in, streaming visualizations to explore your data\n",
        "3. Flexible: Supports text, images, audio, video and sensor data\n",
        "4. Fast and Scalable: Work with large datasets on a single machine\n",
        "5. Ready To Deploy: Export models to Core ML for use in iOS, macOS, watchOS, and tvOS apps"
      ]
    },
    {
      "cell_type": "code",
      "metadata": {
        "id": "CvIWpv-nl5E5",
        "colab_type": "code",
        "colab": {}
      },
      "source": [
        "#!pip install turicreate"
      ],
      "execution_count": 12,
      "outputs": []
    },
    {
      "cell_type": "code",
      "metadata": {
        "id": "WRyWUlGvl2U2",
        "colab_type": "code",
        "colab": {}
      },
      "source": [
        "import pandas as pd\n",
        "import numpy as np\n",
        "import turicreate"
      ],
      "execution_count": 2,
      "outputs": []
    },
    {
      "cell_type": "markdown",
      "metadata": {
        "id": "Mbm2p6zrk4vn",
        "colab_type": "text"
      },
      "source": [
        "## Loading data files"
      ]
    },
    {
      "cell_type": "code",
      "metadata": {
        "id": "5zvaxHRzl2VJ",
        "colab_type": "code",
        "colab": {}
      },
      "source": [
        "path = 'Train.csv'\n",
        "ratings_train = pd.read_csv(path, verbose = False)"
      ],
      "execution_count": 3,
      "outputs": []
    },
    {
      "cell_type": "code",
      "metadata": {
        "id": "zP2KIQY1lKzc",
        "colab_type": "code",
        "colab": {
          "base_uri": "https://localhost:8080/",
          "height": 197
        },
        "outputId": "4507865a-44dc-488a-db68-38d320536672"
      },
      "source": [
        "ratings_train.head()"
      ],
      "execution_count": null,
      "outputs": [
        {
          "output_type": "execute_result",
          "data": {
            "text/html": [
              "<div>\n",
              "<style scoped>\n",
              "    .dataframe tbody tr th:only-of-type {\n",
              "        vertical-align: middle;\n",
              "    }\n",
              "\n",
              "    .dataframe tbody tr th {\n",
              "        vertical-align: top;\n",
              "    }\n",
              "\n",
              "    .dataframe thead th {\n",
              "        text-align: right;\n",
              "    }\n",
              "</style>\n",
              "<table border=\"1\" class=\"dataframe\">\n",
              "  <thead>\n",
              "    <tr style=\"text-align: right;\">\n",
              "      <th></th>\n",
              "      <th>userId</th>\n",
              "      <th>movieId</th>\n",
              "      <th>rating</th>\n",
              "      <th>timestamp</th>\n",
              "    </tr>\n",
              "  </thead>\n",
              "  <tbody>\n",
              "    <tr>\n",
              "      <th>0</th>\n",
              "      <td>5163</td>\n",
              "      <td>57669</td>\n",
              "      <td>4.0</td>\n",
              "      <td>1518349992</td>\n",
              "    </tr>\n",
              "    <tr>\n",
              "      <th>1</th>\n",
              "      <td>106343</td>\n",
              "      <td>5</td>\n",
              "      <td>4.5</td>\n",
              "      <td>1206238739</td>\n",
              "    </tr>\n",
              "    <tr>\n",
              "      <th>2</th>\n",
              "      <td>146790</td>\n",
              "      <td>5459</td>\n",
              "      <td>5.0</td>\n",
              "      <td>1076215539</td>\n",
              "    </tr>\n",
              "    <tr>\n",
              "      <th>3</th>\n",
              "      <td>106362</td>\n",
              "      <td>32296</td>\n",
              "      <td>2.0</td>\n",
              "      <td>1423042565</td>\n",
              "    </tr>\n",
              "    <tr>\n",
              "      <th>4</th>\n",
              "      <td>9041</td>\n",
              "      <td>366</td>\n",
              "      <td>3.0</td>\n",
              "      <td>833375837</td>\n",
              "    </tr>\n",
              "  </tbody>\n",
              "</table>\n",
              "</div>"
            ],
            "text/plain": [
              "   userId  movieId  rating   timestamp\n",
              "0    5163    57669     4.0  1518349992\n",
              "1  106343        5     4.5  1206238739\n",
              "2  146790     5459     5.0  1076215539\n",
              "3  106362    32296     2.0  1423042565\n",
              "4    9041      366     3.0   833375837"
            ]
          },
          "metadata": {
            "tags": []
          },
          "execution_count": 6
        }
      ]
    },
    {
      "cell_type": "code",
      "metadata": {
        "id": "XAKMs49Vl2VU",
        "colab_type": "code",
        "colab": {
          "base_uri": "https://localhost:8080/",
          "height": 221
        },
        "outputId": "c121c48d-2e61-4be8-d83e-55a203dffcc9"
      },
      "source": [
        "ratings_train.pop('timestamp')"
      ],
      "execution_count": 4,
      "outputs": [
        {
          "output_type": "execute_result",
          "data": {
            "text/plain": [
              "0         1518349992\n",
              "1         1206238739\n",
              "2         1076215539\n",
              "3         1423042565\n",
              "4          833375837\n",
              "             ...    \n",
              "280921     986203458\n",
              "280922    1542037748\n",
              "280923     888380356\n",
              "280924    1118201805\n",
              "280925           120\n",
              "Name: timestamp, Length: 280926, dtype: int64"
            ]
          },
          "metadata": {
            "tags": []
          },
          "execution_count": 4
        }
      ]
    },
    {
      "cell_type": "code",
      "metadata": {
        "id": "hjXm0JP6l2V7",
        "colab_type": "code",
        "colab": {
          "base_uri": "https://localhost:8080/",
          "height": 52
        },
        "outputId": "d91efdc6-6a00-4a5a-f0ec-b1f67513cc7a"
      },
      "source": [
        "n_users = ratings_train['userId'].nunique()\n",
        "n_items = ratings_train['movieId'].nunique()\n",
        "\n",
        "print('Number of Users: '+ str(n_users))\n",
        "print('Number of Movies: '+str(n_items))"
      ],
      "execution_count": null,
      "outputs": [
        {
          "output_type": "stream",
          "text": [
            "Number of Users: 162541\n",
            "Number of Movies: 48213\n"
          ],
          "name": "stdout"
        }
      ]
    },
    {
      "cell_type": "markdown",
      "metadata": {
        "id": "5M7qlDprlXKE",
        "colab_type": "text"
      },
      "source": [
        "# Data preprocessing"
      ]
    },
    {
      "cell_type": "code",
      "metadata": {
        "id": "g7k5A62ol2WC",
        "colab_type": "code",
        "colab": {}
      },
      "source": [
        "from sklearn.model_selection import train_test_split\n",
        "train_data, test_data = train_test_split(ratings_train, test_size = 0.25)"
      ],
      "execution_count": 5,
      "outputs": []
    },
    {
      "cell_type": "code",
      "metadata": {
        "id": "y-qAiia4zBmL",
        "colab_type": "code",
        "colab": {}
      },
      "source": [
        "train_data = turicreate.load_sframe(train_data)\n",
        "test_data = turicreate.load_sframe(test_data)"
      ],
      "execution_count": 6,
      "outputs": []
    },
    {
      "cell_type": "code",
      "metadata": {
        "id": "1heL2k1ZzTiO",
        "colab_type": "code",
        "colab": {
          "base_uri": "https://localhost:8080/",
          "height": 252
        },
        "outputId": "ed97edf0-2377-4db3-d1d5-2c02ed54bb52"
      },
      "source": [
        "train_data"
      ],
      "execution_count": null,
      "outputs": [
        {
          "output_type": "execute_result",
          "data": {
            "text/html": [
              "<div style=\"max-height:1000px;max-width:1500px;overflow:auto;\"><table frame=\"box\" rules=\"cols\">\n",
              "    <tr>\n",
              "        <th style=\"padding-left: 1em; padding-right: 1em; text-align: center\">userId</th>\n",
              "        <th style=\"padding-left: 1em; padding-right: 1em; text-align: center\">movieId</th>\n",
              "        <th style=\"padding-left: 1em; padding-right: 1em; text-align: center\">rating</th>\n",
              "    </tr>\n",
              "    <tr>\n",
              "        <td style=\"padding-left: 1em; padding-right: 1em; text-align: center; vertical-align: top\">83779</td>\n",
              "        <td style=\"padding-left: 1em; padding-right: 1em; text-align: center; vertical-align: top\">7143</td>\n",
              "        <td style=\"padding-left: 1em; padding-right: 1em; text-align: center; vertical-align: top\">2.0</td>\n",
              "    </tr>\n",
              "    <tr>\n",
              "        <td style=\"padding-left: 1em; padding-right: 1em; text-align: center; vertical-align: top\">161339</td>\n",
              "        <td style=\"padding-left: 1em; padding-right: 1em; text-align: center; vertical-align: top\">18</td>\n",
              "        <td style=\"padding-left: 1em; padding-right: 1em; text-align: center; vertical-align: top\">4.0</td>\n",
              "    </tr>\n",
              "    <tr>\n",
              "        <td style=\"padding-left: 1em; padding-right: 1em; text-align: center; vertical-align: top\">88430</td>\n",
              "        <td style=\"padding-left: 1em; padding-right: 1em; text-align: center; vertical-align: top\">3615</td>\n",
              "        <td style=\"padding-left: 1em; padding-right: 1em; text-align: center; vertical-align: top\">3.0</td>\n",
              "    </tr>\n",
              "    <tr>\n",
              "        <td style=\"padding-left: 1em; padding-right: 1em; text-align: center; vertical-align: top\">127493</td>\n",
              "        <td style=\"padding-left: 1em; padding-right: 1em; text-align: center; vertical-align: top\">1252</td>\n",
              "        <td style=\"padding-left: 1em; padding-right: 1em; text-align: center; vertical-align: top\">5.0</td>\n",
              "    </tr>\n",
              "    <tr>\n",
              "        <td style=\"padding-left: 1em; padding-right: 1em; text-align: center; vertical-align: top\">104451</td>\n",
              "        <td style=\"padding-left: 1em; padding-right: 1em; text-align: center; vertical-align: top\">2110</td>\n",
              "        <td style=\"padding-left: 1em; padding-right: 1em; text-align: center; vertical-align: top\">2.0</td>\n",
              "    </tr>\n",
              "    <tr>\n",
              "        <td style=\"padding-left: 1em; padding-right: 1em; text-align: center; vertical-align: top\">68899</td>\n",
              "        <td style=\"padding-left: 1em; padding-right: 1em; text-align: center; vertical-align: top\">21</td>\n",
              "        <td style=\"padding-left: 1em; padding-right: 1em; text-align: center; vertical-align: top\">4.0</td>\n",
              "    </tr>\n",
              "    <tr>\n",
              "        <td style=\"padding-left: 1em; padding-right: 1em; text-align: center; vertical-align: top\">40265</td>\n",
              "        <td style=\"padding-left: 1em; padding-right: 1em; text-align: center; vertical-align: top\">46653</td>\n",
              "        <td style=\"padding-left: 1em; padding-right: 1em; text-align: center; vertical-align: top\">3.0</td>\n",
              "    </tr>\n",
              "    <tr>\n",
              "        <td style=\"padding-left: 1em; padding-right: 1em; text-align: center; vertical-align: top\">74683</td>\n",
              "        <td style=\"padding-left: 1em; padding-right: 1em; text-align: center; vertical-align: top\">539</td>\n",
              "        <td style=\"padding-left: 1em; padding-right: 1em; text-align: center; vertical-align: top\">4.0</td>\n",
              "    </tr>\n",
              "    <tr>\n",
              "        <td style=\"padding-left: 1em; padding-right: 1em; text-align: center; vertical-align: top\">115053</td>\n",
              "        <td style=\"padding-left: 1em; padding-right: 1em; text-align: center; vertical-align: top\">593</td>\n",
              "        <td style=\"padding-left: 1em; padding-right: 1em; text-align: center; vertical-align: top\">5.0</td>\n",
              "    </tr>\n",
              "    <tr>\n",
              "        <td style=\"padding-left: 1em; padding-right: 1em; text-align: center; vertical-align: top\">22022</td>\n",
              "        <td style=\"padding-left: 1em; padding-right: 1em; text-align: center; vertical-align: top\">480</td>\n",
              "        <td style=\"padding-left: 1em; padding-right: 1em; text-align: center; vertical-align: top\">4.0</td>\n",
              "    </tr>\n",
              "</table>\n",
              "[7500028 rows x 3 columns]<br/>Note: Only the head of the SFrame is printed.<br/>You can use print_rows(num_rows=m, num_columns=n) to print more rows and columns.\n",
              "</div>"
            ],
            "text/plain": [
              "Columns:\n",
              "\tuserId\tint\n",
              "\tmovieId\tint\n",
              "\trating\tfloat\n",
              "\n",
              "Rows: 7500028\n",
              "\n",
              "Data:\n",
              "+--------+---------+--------+\n",
              "| userId | movieId | rating |\n",
              "+--------+---------+--------+\n",
              "| 83779  |   7143  |  2.0   |\n",
              "| 161339 |    18   |  4.0   |\n",
              "| 88430  |   3615  |  3.0   |\n",
              "| 127493 |   1252  |  5.0   |\n",
              "| 104451 |   2110  |  2.0   |\n",
              "| 68899  |    21   |  4.0   |\n",
              "| 40265  |  46653  |  3.0   |\n",
              "| 74683  |   539   |  4.0   |\n",
              "| 115053 |   593   |  5.0   |\n",
              "| 22022  |   480   |  4.0   |\n",
              "+--------+---------+--------+\n",
              "[7500028 rows x 3 columns]\n",
              "Note: Only the head of the SFrame is printed.\n",
              "You can use print_rows(num_rows=m, num_columns=n) to print more rows and columns."
            ]
          },
          "metadata": {
            "tags": []
          },
          "execution_count": 11
        }
      ]
    },
    {
      "cell_type": "markdown",
      "metadata": {
        "id": "pU2TYfXpldh_",
        "colab_type": "text"
      },
      "source": [
        "# Base Model (Popularity Recommendation Engine)\n",
        "Here we implement a simple model that makes recommendations using item popularity. When a target is provided, popularity is computed using the item's mean target value. When the target column contains ratings, as in our case, the model computes the mean rating for each item and uses this to rank items for recommendations."
      ]
    },
    {
      "cell_type": "markdown",
      "metadata": {
        "id": "5fkba7EHmF1l",
        "colab_type": "text"
      },
      "source": [
        "## Implementation"
      ]
    },
    {
      "cell_type": "code",
      "metadata": {
        "id": "edeKOwwRzTm5",
        "colab_type": "code",
        "colab": {
          "base_uri": "https://localhost:8080/",
          "height": 85
        },
        "outputId": "54113419-3d01-45c0-9258-2989ba5bcb21"
      },
      "source": [
        "popularity_model = turicreate.popularity_recommender.create(train_data, user_id='userId', item_id='movieId', target='rating')"
      ],
      "execution_count": 7,
      "outputs": [
        {
          "output_type": "display_data",
          "data": {
            "text/html": [
              "<pre>Preparing data set.</pre>"
            ],
            "text/plain": [
              "Preparing data set."
            ]
          },
          "metadata": {
            "tags": []
          }
        },
        {
          "output_type": "display_data",
          "data": {
            "text/html": [
              "<pre>    Data has 210694 observations with 82909 users and 13390 items.</pre>"
            ],
            "text/plain": [
              "    Data has 210694 observations with 82909 users and 13390 items."
            ]
          },
          "metadata": {
            "tags": []
          }
        },
        {
          "output_type": "display_data",
          "data": {
            "text/html": [
              "<pre>    Data prepared in: 0.307068s</pre>"
            ],
            "text/plain": [
              "    Data prepared in: 0.307068s"
            ]
          },
          "metadata": {
            "tags": []
          }
        },
        {
          "output_type": "display_data",
          "data": {
            "text/html": [
              "<pre>210694 observations to process; with 13390 unique items.</pre>"
            ],
            "text/plain": [
              "210694 observations to process; with 13390 unique items."
            ]
          },
          "metadata": {
            "tags": []
          }
        }
      ]
    },
    {
      "cell_type": "code",
      "metadata": {
        "id": "hrET2qAUx0BK",
        "colab_type": "code",
        "colab": {}
      },
      "source": [
        "import pickle"
      ],
      "execution_count": 8,
      "outputs": []
    },
    {
      "cell_type": "markdown",
      "metadata": {
        "id": "Fkw-Fp1BmJH8",
        "colab_type": "text"
      },
      "source": [
        "## Model Evaluation"
      ]
    },
    {
      "cell_type": "code",
      "metadata": {
        "id": "vefZpSydzBpd",
        "colab_type": "code",
        "colab": {
          "base_uri": "https://localhost:8080/",
          "height": 1000
        },
        "outputId": "c1af1392-92d1-40f5-f355-545ad1aa9d02"
      },
      "source": [
        "popularity_model.evaluate(test_data, metric ='rmse', target = 'rating')"
      ],
      "execution_count": null,
      "outputs": [
        {
          "output_type": "stream",
          "text": [
            "\n",
            "Overall RMSE: 0.9617601791978634\n",
            "\n",
            "Per User RMSE (best)\n",
            "+--------+------+-------+\n",
            "| userId | rmse | count |\n",
            "+--------+------+-------+\n",
            "| 26012  | 0.0  |   1   |\n",
            "+--------+------+-------+\n",
            "[1 rows x 3 columns]\n",
            "\n",
            "\n",
            "Per User RMSE (worst)\n",
            "+--------+--------------------+-------+\n",
            "| userId |        rmse        | count |\n",
            "+--------+--------------------+-------+\n",
            "| 136007 | 3.7786820767275806 |   1   |\n",
            "+--------+--------------------+-------+\n",
            "[1 rows x 3 columns]\n",
            "\n",
            "\n",
            "Per Item RMSE (best)\n",
            "+---------+------+-------+\n",
            "| movieId | rmse | count |\n",
            "+---------+------+-------+\n",
            "|  182305 | 0.0  |   1   |\n",
            "+---------+------+-------+\n",
            "[1 rows x 3 columns]\n",
            "\n",
            "\n",
            "Per Item RMSE (worst)\n",
            "+---------+------+-------+\n",
            "| movieId | rmse | count |\n",
            "+---------+------+-------+\n",
            "|  187921 | 4.5  |   1   |\n",
            "+---------+------+-------+\n",
            "[1 rows x 3 columns]\n",
            "\n"
          ],
          "name": "stdout"
        },
        {
          "output_type": "execute_result",
          "data": {
            "text/plain": [
              "{'rmse_by_item': Columns:\n",
              " \tmovieId\tint\n",
              " \trmse\tfloat\n",
              " \tcount\tint\n",
              " \n",
              " Rows: 31747\n",
              " \n",
              " Data:\n",
              " +---------+---------------------+-------+\n",
              " | movieId |         rmse        | count |\n",
              " +---------+---------------------+-------+\n",
              " |   4441  |  0.7392438579261119 |   36  |\n",
              " |  159407 |         0.5         |   1   |\n",
              " |  128606 |  0.853365466012948  |   19  |\n",
              " |  85892  | 0.33333333333333326 |   1   |\n",
              " |   7899  |  0.7619875327064086 |   16  |\n",
              " |  113767 |  1.4142135623730951 |   2   |\n",
              " |  182611 |  3.0336071412000063 |   1   |\n",
              " |  133925 |         0.0         |   1   |\n",
              " |  74426  |  1.3974182544169722 |   10  |\n",
              " |  144280 |  0.2999999999999998 |   1   |\n",
              " +---------+---------------------+-------+\n",
              " [31747 rows x 3 columns]\n",
              " Note: Only the head of the SFrame is printed.\n",
              " You can use print_rows(num_rows=m, num_columns=n) to print more rows and columns.,\n",
              " 'rmse_by_user': Columns:\n",
              " \tuserId\tint\n",
              " \trmse\tfloat\n",
              " \tcount\tint\n",
              " \n",
              " Rows: 159317\n",
              " \n",
              " Data:\n",
              " +--------+--------------------+-------+\n",
              " | userId |        rmse        | count |\n",
              " +--------+--------------------+-------+\n",
              " | 49249  | 0.8357518264196355 |   6   |\n",
              " | 24527  | 0.7103769243477287 |  147  |\n",
              " | 30459  | 0.6656947942438396 |   5   |\n",
              " | 126356 | 1.3692391112921372 |   3   |\n",
              " | 154328 | 0.9442347111909366 |   78  |\n",
              " | 15376  | 0.4145573727933538 |   1   |\n",
              " | 146851 | 1.3732045207277719 |   5   |\n",
              " | 68046  | 1.113680294958017  |   2   |\n",
              " | 26613  | 1.1112066123752644 |   10  |\n",
              " | 133456 | 1.1558362425664257 |   4   |\n",
              " +--------+--------------------+-------+\n",
              " [159317 rows x 3 columns]\n",
              " Note: Only the head of the SFrame is printed.\n",
              " You can use print_rows(num_rows=m, num_columns=n) to print more rows and columns.,\n",
              " 'rmse_overall': 0.9617601791978634}"
            ]
          },
          "metadata": {
            "tags": []
          },
          "execution_count": 13
        }
      ]
    },
    {
      "cell_type": "markdown",
      "metadata": {
        "id": "1xiM2I8KmM62",
        "colab_type": "text"
      },
      "source": [
        "The overall RMSE from this simple model is 0.96. Pretty good for a simple model."
      ]
    },
    {
      "cell_type": "markdown",
      "metadata": {
        "id": "yXXtxmSC4WRG",
        "colab_type": "text"
      },
      "source": [
        "## Making Movie Recommendations"
      ]
    },
    {
      "cell_type": "code",
      "metadata": {
        "id": "Dc5q5edF4VP8",
        "colab_type": "code",
        "colab": {
          "base_uri": "https://localhost:8080/",
          "height": 218
        },
        "outputId": "b8270460-c157-4a0d-c784-91e8826652d6"
      },
      "source": [
        "# for two users recommend 5 movies\n",
        "popularity_model.recommend(users = [133, 3567], k = 5)"
      ],
      "execution_count": null,
      "outputs": [
        {
          "output_type": "execute_result",
          "data": {
            "text/html": [
              "<div style=\"max-height:1000px;max-width:1500px;overflow:auto;\"><table frame=\"box\" rules=\"cols\">\n",
              "    <tr>\n",
              "        <th style=\"padding-left: 1em; padding-right: 1em; text-align: center\">userId</th>\n",
              "        <th style=\"padding-left: 1em; padding-right: 1em; text-align: center\">movieId</th>\n",
              "        <th style=\"padding-left: 1em; padding-right: 1em; text-align: center\">score</th>\n",
              "        <th style=\"padding-left: 1em; padding-right: 1em; text-align: center\">rank</th>\n",
              "    </tr>\n",
              "    <tr>\n",
              "        <td style=\"padding-left: 1em; padding-right: 1em; text-align: center; vertical-align: top\">133</td>\n",
              "        <td style=\"padding-left: 1em; padding-right: 1em; text-align: center; vertical-align: top\">127345</td>\n",
              "        <td style=\"padding-left: 1em; padding-right: 1em; text-align: center; vertical-align: top\">5.0</td>\n",
              "        <td style=\"padding-left: 1em; padding-right: 1em; text-align: center; vertical-align: top\">1</td>\n",
              "    </tr>\n",
              "    <tr>\n",
              "        <td style=\"padding-left: 1em; padding-right: 1em; text-align: center; vertical-align: top\">133</td>\n",
              "        <td style=\"padding-left: 1em; padding-right: 1em; text-align: center; vertical-align: top\">146810</td>\n",
              "        <td style=\"padding-left: 1em; padding-right: 1em; text-align: center; vertical-align: top\">5.0</td>\n",
              "        <td style=\"padding-left: 1em; padding-right: 1em; text-align: center; vertical-align: top\">2</td>\n",
              "    </tr>\n",
              "    <tr>\n",
              "        <td style=\"padding-left: 1em; padding-right: 1em; text-align: center; vertical-align: top\">133</td>\n",
              "        <td style=\"padding-left: 1em; padding-right: 1em; text-align: center; vertical-align: top\">105144</td>\n",
              "        <td style=\"padding-left: 1em; padding-right: 1em; text-align: center; vertical-align: top\">5.0</td>\n",
              "        <td style=\"padding-left: 1em; padding-right: 1em; text-align: center; vertical-align: top\">3</td>\n",
              "    </tr>\n",
              "    <tr>\n",
              "        <td style=\"padding-left: 1em; padding-right: 1em; text-align: center; vertical-align: top\">133</td>\n",
              "        <td style=\"padding-left: 1em; padding-right: 1em; text-align: center; vertical-align: top\">178251</td>\n",
              "        <td style=\"padding-left: 1em; padding-right: 1em; text-align: center; vertical-align: top\">5.0</td>\n",
              "        <td style=\"padding-left: 1em; padding-right: 1em; text-align: center; vertical-align: top\">4</td>\n",
              "    </tr>\n",
              "    <tr>\n",
              "        <td style=\"padding-left: 1em; padding-right: 1em; text-align: center; vertical-align: top\">133</td>\n",
              "        <td style=\"padding-left: 1em; padding-right: 1em; text-align: center; vertical-align: top\">160339</td>\n",
              "        <td style=\"padding-left: 1em; padding-right: 1em; text-align: center; vertical-align: top\">5.0</td>\n",
              "        <td style=\"padding-left: 1em; padding-right: 1em; text-align: center; vertical-align: top\">5</td>\n",
              "    </tr>\n",
              "    <tr>\n",
              "        <td style=\"padding-left: 1em; padding-right: 1em; text-align: center; vertical-align: top\">3567</td>\n",
              "        <td style=\"padding-left: 1em; padding-right: 1em; text-align: center; vertical-align: top\">127345</td>\n",
              "        <td style=\"padding-left: 1em; padding-right: 1em; text-align: center; vertical-align: top\">5.0</td>\n",
              "        <td style=\"padding-left: 1em; padding-right: 1em; text-align: center; vertical-align: top\">1</td>\n",
              "    </tr>\n",
              "    <tr>\n",
              "        <td style=\"padding-left: 1em; padding-right: 1em; text-align: center; vertical-align: top\">3567</td>\n",
              "        <td style=\"padding-left: 1em; padding-right: 1em; text-align: center; vertical-align: top\">146810</td>\n",
              "        <td style=\"padding-left: 1em; padding-right: 1em; text-align: center; vertical-align: top\">5.0</td>\n",
              "        <td style=\"padding-left: 1em; padding-right: 1em; text-align: center; vertical-align: top\">2</td>\n",
              "    </tr>\n",
              "    <tr>\n",
              "        <td style=\"padding-left: 1em; padding-right: 1em; text-align: center; vertical-align: top\">3567</td>\n",
              "        <td style=\"padding-left: 1em; padding-right: 1em; text-align: center; vertical-align: top\">105144</td>\n",
              "        <td style=\"padding-left: 1em; padding-right: 1em; text-align: center; vertical-align: top\">5.0</td>\n",
              "        <td style=\"padding-left: 1em; padding-right: 1em; text-align: center; vertical-align: top\">3</td>\n",
              "    </tr>\n",
              "    <tr>\n",
              "        <td style=\"padding-left: 1em; padding-right: 1em; text-align: center; vertical-align: top\">3567</td>\n",
              "        <td style=\"padding-left: 1em; padding-right: 1em; text-align: center; vertical-align: top\">178251</td>\n",
              "        <td style=\"padding-left: 1em; padding-right: 1em; text-align: center; vertical-align: top\">5.0</td>\n",
              "        <td style=\"padding-left: 1em; padding-right: 1em; text-align: center; vertical-align: top\">4</td>\n",
              "    </tr>\n",
              "    <tr>\n",
              "        <td style=\"padding-left: 1em; padding-right: 1em; text-align: center; vertical-align: top\">3567</td>\n",
              "        <td style=\"padding-left: 1em; padding-right: 1em; text-align: center; vertical-align: top\">160339</td>\n",
              "        <td style=\"padding-left: 1em; padding-right: 1em; text-align: center; vertical-align: top\">5.0</td>\n",
              "        <td style=\"padding-left: 1em; padding-right: 1em; text-align: center; vertical-align: top\">5</td>\n",
              "    </tr>\n",
              "</table>\n",
              "[10 rows x 4 columns]<br/>\n",
              "</div>"
            ],
            "text/plain": [
              "Columns:\n",
              "\tuserId\tint\n",
              "\tmovieId\tint\n",
              "\tscore\tfloat\n",
              "\trank\tint\n",
              "\n",
              "Rows: 10\n",
              "\n",
              "Data:\n",
              "+--------+---------+-------+------+\n",
              "| userId | movieId | score | rank |\n",
              "+--------+---------+-------+------+\n",
              "|  133   |  127345 |  5.0  |  1   |\n",
              "|  133   |  146810 |  5.0  |  2   |\n",
              "|  133   |  105144 |  5.0  |  3   |\n",
              "|  133   |  178251 |  5.0  |  4   |\n",
              "|  133   |  160339 |  5.0  |  5   |\n",
              "|  3567  |  127345 |  5.0  |  1   |\n",
              "|  3567  |  146810 |  5.0  |  2   |\n",
              "|  3567  |  105144 |  5.0  |  3   |\n",
              "|  3567  |  178251 |  5.0  |  4   |\n",
              "|  3567  |  160339 |  5.0  |  5   |\n",
              "+--------+---------+-------+------+\n",
              "[10 rows x 4 columns]"
            ]
          },
          "metadata": {
            "tags": []
          },
          "execution_count": 19
        }
      ]
    },
    {
      "cell_type": "markdown",
      "metadata": {
        "id": "yLYfoM-55MRe",
        "colab_type": "text"
      },
      "source": [
        "For example for user with userId 133, the 5 best recommendations would be the movies shown in the table above. Note that these are the same for the user with userId 3567. This is because the popularity recommendation model does not discriminate users based on preference, all users are simply recommended the same movies."
      ]
    }
  ]
}