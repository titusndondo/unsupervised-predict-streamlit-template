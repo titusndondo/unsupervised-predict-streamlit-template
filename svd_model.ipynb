{
  "nbformat": 4,
  "nbformat_minor": 0,
  "metadata": {
    "colab": {
      "name": "Untitled4.ipynb",
      "provenance": [],
      "collapsed_sections": [],
      "authorship_tag": "ABX9TyO3kc8g2Y13YVsw5nKEpw87",
      "include_colab_link": true
    },
    "kernelspec": {
      "name": "python3",
      "display_name": "Python 3"
    }
  },
  "cells": [
    {
      "cell_type": "markdown",
      "metadata": {
        "id": "view-in-github",
        "colab_type": "text"
      },
      "source": [
        "<a href=\"https://colab.research.google.com/github/DNVena/unsupervised-predict-streamlit-template/blob/master/svd_model.ipynb\" target=\"_parent\"><img src=\"https://colab.research.google.com/assets/colab-badge.svg\" alt=\"Open In Colab\"/></a>"
      ]
    },
    {
      "cell_type": "code",
      "metadata": {
        "id": "1hv9_JjQ600d",
        "colab_type": "code",
        "colab": {}
      },
      "source": [
        "import pandas as pd\n",
        "import numpy as np"
      ],
      "execution_count": 7,
      "outputs": []
    },
    {
      "cell_type": "code",
      "metadata": {
        "id": "H-3OSAZq7eLS",
        "colab_type": "code",
        "colab": {}
      },
      "source": [
        "train = pd.read_csv('Train.csv')\n",
        "test = pd.read_csv('Test.csv')"
      ],
      "execution_count": 9,
      "outputs": []
    },
    {
      "cell_type": "code",
      "metadata": {
        "id": "ql03uD7QB5RD",
        "colab_type": "code",
        "colab": {
          "base_uri": "https://localhost:8080/",
          "height": 309
        },
        "outputId": "c69bc8a9-0765-4002-b05c-6711e2272349"
      },
      "source": [
        "pip install surprise"
      ],
      "execution_count": 11,
      "outputs": [
        {
          "output_type": "stream",
          "text": [
            "Collecting surprise\n",
            "  Downloading https://files.pythonhosted.org/packages/61/de/e5cba8682201fcf9c3719a6fdda95693468ed061945493dea2dd37c5618b/surprise-0.1-py2.py3-none-any.whl\n",
            "Collecting scikit-surprise\n",
            "\u001b[?25l  Downloading https://files.pythonhosted.org/packages/97/37/5d334adaf5ddd65da99fc65f6507e0e4599d092ba048f4302fe8775619e8/scikit-surprise-1.1.1.tar.gz (11.8MB)\n",
            "\u001b[K     |████████████████████████████████| 11.8MB 298kB/s \n",
            "\u001b[?25hRequirement already satisfied: joblib>=0.11 in /usr/local/lib/python3.6/dist-packages (from scikit-surprise->surprise) (0.16.0)\n",
            "Requirement already satisfied: numpy>=1.11.2 in /usr/local/lib/python3.6/dist-packages (from scikit-surprise->surprise) (1.18.5)\n",
            "Requirement already satisfied: scipy>=1.0.0 in /usr/local/lib/python3.6/dist-packages (from scikit-surprise->surprise) (1.4.1)\n",
            "Requirement already satisfied: six>=1.10.0 in /usr/local/lib/python3.6/dist-packages (from scikit-surprise->surprise) (1.12.0)\n",
            "Building wheels for collected packages: scikit-surprise\n",
            "  Building wheel for scikit-surprise (setup.py) ... \u001b[?25l\u001b[?25hdone\n",
            "  Created wheel for scikit-surprise: filename=scikit_surprise-1.1.1-cp36-cp36m-linux_x86_64.whl size=1646964 sha256=c954602956261a95f086717a5bf9136626a73b859201f347b60cb12a38912560\n",
            "  Stored in directory: /root/.cache/pip/wheels/78/9c/3d/41b419c9d2aff5b6e2b4c0fc8d25c538202834058f9ed110d0\n",
            "Successfully built scikit-surprise\n",
            "Installing collected packages: scikit-surprise, surprise\n",
            "Successfully installed scikit-surprise-1.1.1 surprise-0.1\n"
          ],
          "name": "stdout"
        }
      ]
    },
    {
      "cell_type": "code",
      "metadata": {
        "id": "nbXbIESN7qXy",
        "colab_type": "code",
        "colab": {}
      },
      "source": [
        "from surprise import SVD\n",
        "from surprise import Dataset, Reader\n",
        "#from surprise.model_selection import cross_validate\n",
        "from surprise import accuracy\n",
        "from surprise.model_selection import train_test_split"
      ],
      "execution_count": 12,
      "outputs": []
    },
    {
      "cell_type": "code",
      "metadata": {
        "id": "4pM-Ay197qz5",
        "colab_type": "code",
        "colab": {}
      },
      "source": [
        "reader = Reader(rating_scale=(1, 5))\n",
        "data = Dataset.load_from_df(train[['userId','movieId', 'rating']], reader)"
      ],
      "execution_count": 13,
      "outputs": []
    },
    {
      "cell_type": "code",
      "metadata": {
        "id": "I_4uDl5W7rSj",
        "colab_type": "code",
        "colab": {}
      },
      "source": [
        "trainset = data.build_full_trainset()"
      ],
      "execution_count": 14,
      "outputs": []
    },
    {
      "cell_type": "code",
      "metadata": {
        "id": "fo7O4UdE8CbW",
        "colab_type": "code",
        "colab": {}
      },
      "source": [
        "model = SVD()"
      ],
      "execution_count": 15,
      "outputs": []
    },
    {
      "cell_type": "code",
      "metadata": {
        "id": "n0f_FoUr8C2o",
        "colab_type": "code",
        "colab": {
          "base_uri": "https://localhost:8080/",
          "height": 34
        },
        "outputId": "0cbafc07-dbe8-4ff7-8896-0824c2ee38c8"
      },
      "source": [
        "model.fit(trainset)"
      ],
      "execution_count": 16,
      "outputs": [
        {
          "output_type": "execute_result",
          "data": {
            "text/plain": [
              "<surprise.prediction_algorithms.matrix_factorization.SVD at 0x7fd815757f60>"
            ]
          },
          "metadata": {
            "tags": []
          },
          "execution_count": 16
        }
      ]
    },
    {
      "cell_type": "code",
      "metadata": {
        "id": "FnHapS9O8N0B",
        "colab_type": "code",
        "colab": {}
      },
      "source": [
        "import pickle\n",
        "svd_model = pickle.dumps(model)"
      ],
      "execution_count": 17,
      "outputs": []
    },
    {
      "cell_type": "code",
      "metadata": {
        "id": "breSdofV8OMy",
        "colab_type": "code",
        "colab": {}
      },
      "source": [
        "userId = list(test['userId'])"
      ],
      "execution_count": 19,
      "outputs": []
    },
    {
      "cell_type": "code",
      "metadata": {
        "id": "caaa5jza8iC5",
        "colab_type": "code",
        "colab": {}
      },
      "source": [
        "movieId = list(test['movieId'])"
      ],
      "execution_count": 20,
      "outputs": []
    },
    {
      "cell_type": "code",
      "metadata": {
        "id": "sWSy2NyD8ikQ",
        "colab_type": "code",
        "colab": {}
      },
      "source": [
        "user1 = userId[0:500003] \n",
        "user2 = userId[500003:1000005] \n",
        "user3 = userId[1000005:1500007] \n",
        "user4 = userId[1500007:2000009] \n",
        "user5 = userId[2000009:2500011] \n",
        "user6 = userId[2500011:3000013] \n",
        "user7 = userId[3000013:3500015] \n",
        "user8 = userId[3500015:4000017] \n",
        "user9 = userId[4000017:4500019] \n",
        "user10 = userId[4500019:5000020]"
      ],
      "execution_count": 21,
      "outputs": []
    },
    {
      "cell_type": "code",
      "metadata": {
        "id": "V3gPzW6g8i-A",
        "colab_type": "code",
        "colab": {}
      },
      "source": [
        "movie1 = movieId[0:500003] \n",
        "movie2 = movieId[500003:1000005] \n",
        "movie3 = movieId[1000005:1500007] \n",
        "movie4 = movieId[1500007:2000009] \n",
        "movie5 = movieId[2000009:2500011] \n",
        "movie6 = movieId[2500011:3000013] \n",
        "movie7 = movieId[3000013:3500015] \n",
        "movie8 = movieId[3500015:4000017] \n",
        "movie9 = movieId[4000017:4500019] \n",
        "movie10 = movieId[4500019:5000020]"
      ],
      "execution_count": 22,
      "outputs": []
    },
    {
      "cell_type": "code",
      "metadata": {
        "id": "Q7LnAFBn9D8Z",
        "colab_type": "code",
        "colab": {}
      },
      "source": [
        "\n",
        "rates1 = [] \n",
        "for i in user1:\n",
        "  for j in movie1:\n",
        "    predicts = model.predict(i,j) \n",
        "    rates1.append(predicts)"
      ],
      "execution_count": null,
      "outputs": []
    },
    {
      "cell_type": "code",
      "metadata": {
        "id": "Euv3NskZ9OXp",
        "colab_type": "code",
        "colab": {}
      },
      "source": [
        "rates2 = [] \n",
        "for i in user2: \n",
        "  for j in movie2: \n",
        "    predicts = model.predict(i,j) \n",
        "    rates2.append(predicts)"
      ],
      "execution_count": null,
      "outputs": []
    }
  ]
}